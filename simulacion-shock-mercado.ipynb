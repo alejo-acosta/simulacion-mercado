{
 "cells": [
  {
   "cell_type": "markdown",
   "metadata": {},
   "source": [
    "# Simulación Shocks oferta y demanda"
   ]
  },
  {
   "cell_type": "code",
   "execution_count": 1,
   "metadata": {},
   "outputs": [],
   "source": [
    "import pandas as pd\n",
    "import numpy as np\n",
    "import matplotlib.pyplot as plt\n",
    "import seaborn as sns\n",
    "\n",
    "import streamlit as st\n",
    "\n",
    "from ipywidgets import interact, interactive, fixed, interact_manual\n",
    "import ipywidgets as widgets\n",
    "\n",
    "plt.rcParams['figure.dpi'] = 120\n",
    "plt.rcParams['savefig.dpi'] = 120\n",
    "\n",
    "sns.set_style(\"whitegrid\")"
   ]
  },
  {
   "cell_type": "code",
   "execution_count": 2,
   "metadata": {},
   "outputs": [],
   "source": [
    "def plotsd(m1_s=+1, m1_d=-1, shock_s=0, shock_d=0, show_proj=True):\n",
    "    plt.figure(figsize=(5, 5))\n",
    "    # PARAMETROS\n",
    "    ## Inicial\n",
    "    p1_s = 0\n",
    "    p1_d = 100\n",
    "\n",
    "    # m1_s = +1\n",
    "    # m1_d = -1\n",
    "\n",
    "    ## Final\n",
    "    m2_s = m1_s\n",
    "    m2_d = m1_d\n",
    "    # shock_s = 20\n",
    "    # shock_d = 30\n",
    "\n",
    "    p2_s = 0 - shock_s\n",
    "    p2_d = 100 + shock_d\n",
    "    pp = {'lw': 2.5, 'alpha': .6}\n",
    "\n",
    "    # show_proj = False\n",
    "\n",
    "    # INICIAL\n",
    "    ## Equilibrio\n",
    "    xe1 = (p1_d - p1_s) / (m1_s-m1_d)\n",
    "    ye1 = p1_s + m1_s*xe1\n",
    "    plt.scatter(xe1, ye1, c='green', s=100)\n",
    "    plt.text(xe1, ye1, '$E$\\n', ha='center', c='darkgreen')\n",
    "\n",
    "    ## Curvas\n",
    "    plt.axline(xy1=(0, p1_s), slope=m1_s, **pp, c='navy')\n",
    "    plt.axline(xy1=(0, p1_d), slope=m1_d, **pp, c='darkred')\n",
    "\n",
    "    ## Proyecciones\n",
    "    if show_proj:\n",
    "        plt.axvline(xe1, ymax=ye1/100, **pp, ls=':', c='green')\n",
    "        plt.axhline(ye1, xmax=xe1/100, **pp, ls=':', c='green')\n",
    "        plt.scatter(xe1, 0, c='green', s=75)\n",
    "        plt.scatter(0, ye1, c='green', s=75)\n",
    "        plt.text(xe1, 0, '$q$', ha='center', c='darkgreen', va='top')\n",
    "        plt.text(0, ye1, '$p$ ', ha='right', c='darkgreen', va='center_baseline')\n",
    "\n",
    "    # FINAL\n",
    "    ## Equilibrio\n",
    "    xe2 = (p2_d - p2_s) / (m2_s-m2_d)\n",
    "    ye2 = p2_s + m2_s*xe2\n",
    "    plt.scatter(xe2, ye2, c='purple', s=100)\n",
    "    plt.text(xe2, ye2, '$E$\\n', ha='center', c='purple')\n",
    "\n",
    "    ## Curvas\n",
    "    plt.axline(xy1=(0, p2_s), slope=m1_s, **pp, c='navy', ls='--')\n",
    "    plt.axline(xy1=(0, p2_d), slope=m1_d, **pp, c='darkred', ls='--')\n",
    "\n",
    "    ## Proyecciones\n",
    "    if show_proj:\n",
    "        plt.axvline(xe2, ymax=ye2/100, **pp, ls=':', c='purple')\n",
    "        plt.axhline(ye2, xmax=xe2/100, **pp, ls=':', c='purple')\n",
    "        plt.scatter(xe2, 0, c='purple', s=75)\n",
    "        plt.scatter(0, ye2, c='purple', s=75)\n",
    "        plt.text(xe2, 0, '$q$', ha='center', c='purple', va='top')\n",
    "        plt.text(0, ye2, '$p$ ', ha='right', c='purple', va='center_baseline')\n",
    "\n",
    "\n",
    "    plt.xlim(0, 100)\n",
    "    plt.ylim(0, 100)\n",
    "    plt.xticks(alpha=0.5)\n",
    "    plt.yticks(alpha=0.5)\n",
    "    plt.xlabel('Q')\n",
    "    plt.ylabel('P')\n",
    "\n",
    "    return plt.show()\n"
   ]
  },
  {
   "cell_type": "code",
   "execution_count": 3,
   "metadata": {},
   "outputs": [
    {
     "data": {
      "application/vnd.jupyter.widget-view+json": {
       "model_id": "6d98b8587317483388f36cfb04d0c76d",
       "version_major": 2,
       "version_minor": 0
      },
      "text/plain": [
       "interactive(children=(IntSlider(value=0, description='shock_s', max=50, min=-50), IntSlider(value=0, descripti…"
      ]
     },
     "metadata": {},
     "output_type": "display_data"
    },
    {
     "data": {
      "text/plain": [
       "<function __main__.plotsd(m1_s=1, m1_d=-1, shock_s=0, shock_d=0, show_proj=True)>"
      ]
     },
     "execution_count": 3,
     "metadata": {},
     "output_type": "execute_result"
    }
   ],
   "source": [
    "interact(plotsd, shock_s=(-50,+50), shock_d=(-50,+50), m1_s=fixed(1), m1_d=fixed(-1))\n",
    "# plt.show()"
   ]
  },
  {
   "cell_type": "code",
   "execution_count": null,
   "metadata": {},
   "outputs": [],
   "source": [
    "st.sli"
   ]
  },
  {
   "cell_type": "code",
   "execution_count": null,
   "metadata": {},
   "outputs": [],
   "source": []
  }
 ],
 "metadata": {
  "kernelspec": {
   "display_name": "Python 3 (ipykernel)",
   "language": "python",
   "name": "python3"
  },
  "language_info": {
   "codemirror_mode": {
    "name": "ipython",
    "version": 3
   },
   "file_extension": ".py",
   "mimetype": "text/x-python",
   "name": "python",
   "nbconvert_exporter": "python",
   "pygments_lexer": "ipython3",
   "version": "3.10.11"
  },
  "vscode": {
   "interpreter": {
    "hash": "0d9db2acd79fc802845d33905a24c499b3c5b632a8047d75c602e59109c51bd3"
   }
  }
 },
 "nbformat": 4,
 "nbformat_minor": 2
}
